{
 "cells": [
  {
   "cell_type": "code",
   "execution_count": 1,
   "metadata": {},
   "outputs": [],
   "source": [
    "import numpy as np"
   ]
  },
  {
   "cell_type": "code",
   "execution_count": 2,
   "metadata": {},
   "outputs": [],
   "source": [
    "from environment import Environment"
   ]
  },
  {
   "cell_type": "code",
   "execution_count": 3,
   "metadata": {},
   "outputs": [],
   "source": [
    "actions2names = {\n",
    "    0: 'N',\n",
    "    1: 'NW',\n",
    "    2: 'W',\n",
    "    3: 'SW',\n",
    "    4: 'S',\n",
    "    5: 'SE',\n",
    "    6: 'E',\n",
    "    7: 'NE'\n",
    "}\n",
    "\n",
    "action_names = {\n",
    "    0: 'N',\n",
    "    1: 'W',\n",
    "    2: 'S',\n",
    "    3: 'E',\n",
    "}\n",
    "\n",
    "action_deltas = {\n",
    "    0: [0, 1], # x,y format\n",
    "    1: [-1, 0],\n",
    "    2: [0, -1],\n",
    "    3: [1, 0],\n",
    "}"
   ]
  },
  {
   "cell_type": "code",
   "execution_count": 4,
   "metadata": {},
   "outputs": [],
   "source": [
    "config = {\n",
    "    'env_shape': [100, 100],\n",
    "    'uav_init_position': [50,50],\n",
    "    'bounds_x': [0, 100],\n",
    "    'bounds_y': [0, 100]\n",
    "}"
   ]
  },
  {
   "cell_type": "code",
   "execution_count": 5,
   "metadata": {},
   "outputs": [],
   "source": [
    "class Agent:\n",
    "    def __init__(self, init_position=[0,0], env_shape=(100,100)):\n",
    "        \n",
    "        self._env_shape = env_shape\n",
    "        self.position = np.array(init_position)\n",
    "#         self._extinguisher = 100\n",
    "\n",
    "    def policy(self):\n",
    "        pass\n",
    "\n",
    "    def action(self):\n",
    "#         a = np.random.randint(low=0, high=4)\n",
    "        a = 0\n",
    "        delta = action_deltas[a]\n",
    "        new_pos = self.position + delta\n",
    "        \n",
    "        # x bound check\n",
    "        if new_pos[0] >= self._env_shape[0] or new_pos[0] < 0:\n",
    "            return None\n",
    "        # y bound check\n",
    "        elif new_pos[1] >= self._env_shape[1] or new_pos[1] < 0:\n",
    "            return None\n",
    "        else:\n",
    "            self.position += delta\n",
    "            return a\n",
    "    \n",
    "    def reset(position=[0,0]):\n",
    "        self.position = np.array(position)\n",
    "        \n",
    "    def extinguish(self, env, range_xy=(3,3)):\n",
    "        x,y = self.position\n",
    "        dx, dy = range_xy\n",
    "        env._state_map[y-dy:y+dy,x-dx:x+dx] = 0"
   ]
  },
  {
   "cell_type": "code",
   "execution_count": 6,
   "metadata": {},
   "outputs": [],
   "source": [
    "from PIL import Image"
   ]
  },
  {
   "cell_type": "code",
   "execution_count": 7,
   "metadata": {},
   "outputs": [],
   "source": [
    "env = Environment(random_seed=100)\n",
    "drone = Agent(init_position=[20,20])"
   ]
  },
  {
   "cell_type": "code",
   "execution_count": 88,
   "metadata": {},
   "outputs": [
    {
     "data": {
      "image/png": "[encoded data removed]",
      "text/plain": [
       "<PIL.Image.Image image mode=RGB size=500x500 at 0x7FD79E603D30>"
      ]
     },
     "execution_count": 88,
     "metadata": {},
     "output_type": "execute_result"
    }
   ],
   "source": [
    "drone.action()\n",
    "env.step()\n",
    "env.step()\n",
    "env.step()\n",
    "# drone.extinguish(env)\n",
    "env.snapshot(drone_pos=drone.position)"
   ]
  },
  {
   "cell_type": "code",
   "execution_count": 9,
   "metadata": {},
   "outputs": [],
   "source": [
    "range_xy=(3,3)\n",
    "x,y = drone.position"
   ]
  },
  {
   "cell_type": "code",
   "execution_count": 10,
   "metadata": {},
   "outputs": [],
   "source": [
    "dx, dy = (20,20)"
   ]
  },
  {
   "cell_type": "code",
   "execution_count": 11,
   "metadata": {},
   "outputs": [
    {
     "data": {
      "image/png": "[encoded data removed]",
      "text/plain": [
       "<PIL.Image.Image image mode=L size=100x100 at 0x7FD79CD8CA00>"
      ]
     },
     "execution_count": 11,
     "metadata": {},
     "output_type": "execute_result"
    }
   ],
   "source": [
    "Image.fromarray(env._state_map).transpose(Image.FLIP_TOP_BOTTOM)"
   ]
  }
 ],
 "metadata": {
  "kernelspec": {
   "display_name": "python3.8",
   "language": "python",
   "name": "python3.8"
  },
  "language_info": {
   "codemirror_mode": {
    "name": "ipython",
    "version": 3
   },
   "file_extension": ".py",
   "mimetype": "text/x-python",
   "name": "python",
   "nbconvert_exporter": "python",
   "pygments_lexer": "ipython3",
   "version": "3.8.5"
  }
 },
 "nbformat": 4,
 "nbformat_minor": 4
}
